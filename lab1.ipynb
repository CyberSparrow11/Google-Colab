{
  "nbformat": 4,
  "nbformat_minor": 0,
  "metadata": {
    "colab": {
      "provenance": [],
      "authorship_tag": "ABX9TyN+P2Ijr6TZCzJ0bPw4jw6y"
    },
    "kernelspec": {
      "name": "python3",
      "display_name": "Python 3"
    },
    "language_info": {
      "name": "python"
    }
  },
  "cells": [
    {
      "cell_type": "code",
      "execution_count": null,
      "metadata": {
        "colab": {
          "base_uri": "https://localhost:8080/"
        },
        "id": "grBh_hWypHZk",
        "outputId": "d3840617-9405-44dd-b65e-aae39ba4e4e6"
      },
      "outputs": [
        {
          "output_type": "stream",
          "name": "stdout",
          "text": [
            "Reading package lists... Done\n",
            "Building dependency tree... Done\n",
            "Reading state information... Done\n",
            "The following additional packages will be installed:\n",
            "  pypy-lib\n",
            "Suggested packages:\n",
            "  pypy-doc pypy-tk\n",
            "The following NEW packages will be installed:\n",
            "  pypy pypy-lib\n",
            "0 upgraded, 2 newly installed, 0 to remove and 29 not upgraded.\n",
            "Need to get 16.2 MB of archives.\n",
            "After this operation, 88.3 MB of additional disk space will be used.\n",
            "Get:1 http://archive.ubuntu.com/ubuntu jammy/universe amd64 pypy-lib amd64 7.3.9+dfsg-1 [2,484 kB]\n",
            "Get:2 http://archive.ubuntu.com/ubuntu jammy/universe amd64 pypy amd64 7.3.9+dfsg-1 [13.7 MB]\n",
            "Fetched 16.2 MB in 1s (15.1 MB/s)\n",
            "Selecting previously unselected package pypy-lib:amd64.\n",
            "(Reading database ... 124947 files and directories currently installed.)\n",
            "Preparing to unpack .../pypy-lib_7.3.9+dfsg-1_amd64.deb ...\n",
            "Unpacking pypy-lib:amd64 (7.3.9+dfsg-1) ...\n",
            "Setting up pypy-lib:amd64 (7.3.9+dfsg-1) ...\n",
            "Selecting previously unselected package pypy.\n",
            "(Reading database ... 126231 files and directories currently installed.)\n",
            "Preparing to unpack .../pypy_7.3.9+dfsg-1_amd64.deb ...\n",
            "Unpacking pypy (7.3.9+dfsg-1) ...\n",
            "Setting up pypy (7.3.9+dfsg-1) ...\n",
            "running pypy rtupdate hooks for 7.3\n",
            "running pypy post-rtupdate hooks for 7.3\n",
            "Processing triggers for man-db (2.10.2-1) ...\n"
          ]
        }
      ],
      "source": [
        "!apt-get install pypy\n"
      ]
    },
    {
      "cell_type": "code",
      "source": [
        "import timeit\n",
        "\n",
        "def recursive_factorial(n):\n",
        "    if n == 0 or n == 1:\n",
        "        return 1\n",
        "    return n * recursive_factorial(n - 1)\n",
        "\n",
        "n = 500  # Тестируем на числе 500\n",
        "\n",
        "# Используем timeit для измерения времени выполнения\n",
        "execution_time = timeit.timeit(lambda: recursive_factorial(n), number=10)\n",
        "\n",
        "print(\"Factorial calculated!\")\n",
        "print(\"Execution time:\", execution_time, \"seconds\")\n",
        "\n"
      ],
      "metadata": {
        "colab": {
          "base_uri": "https://localhost:8080/"
        },
        "id": "R6a1_SS4qqb3",
        "outputId": "8c004d82-c6b2-4134-a9a1-14f5a8e4739f"
      },
      "execution_count": 1,
      "outputs": [
        {
          "output_type": "stream",
          "name": "stdout",
          "text": [
            "Factorial calculated!\n",
            "Execution time: 0.00898155600000905 seconds\n"
          ]
        }
      ]
    },
    {
      "cell_type": "code",
      "source": [
        "from google.colab import drive\n",
        "drive.mount('/content/drive')"
      ],
      "metadata": {
        "colab": {
          "base_uri": "https://localhost:8080/"
        },
        "id": "oKEbZh0NF3Ex",
        "outputId": "8aca1df5-c705-406b-bde1-d0b2719a9f2e"
      },
      "execution_count": null,
      "outputs": [
        {
          "output_type": "stream",
          "name": "stdout",
          "text": [
            "Drive already mounted at /content/drive; to attempt to forcibly remount, call drive.mount(\"/content/drive\", force_remount=True).\n"
          ]
        }
      ]
    },
    {
      "cell_type": "code",
      "source": [
        "! pypy 'drive/MyDrive/Colab Notebooks/lab1.py'"
      ],
      "metadata": {
        "colab": {
          "base_uri": "https://localhost:8080/"
        },
        "id": "fuOmQUTnIJH5",
        "outputId": "44e40666-7be0-48ff-abd3-3c77bc7de25b"
      },
      "execution_count": null,
      "outputs": [
        {
          "output_type": "stream",
          "name": "stdout",
          "text": [
            "499784.170313\n",
            "('time', 0.5850200653076172)\n"
          ]
        }
      ]
    },
    {
      "cell_type": "code",
      "source": [
        "! pypy 'drive/MyDrive/Colab Notebooks/lab1.py'"
      ],
      "metadata": {
        "colab": {
          "base_uri": "https://localhost:8080/"
        },
        "id": "xMu2_2XKIYB5",
        "outputId": "ef061ef1-939e-439e-be2a-da8312d72d81"
      },
      "execution_count": null,
      "outputs": [
        {
          "output_type": "stream",
          "name": "stdout",
          "text": [
            "500198.15366276377\n",
            "time 1.071973418998823\n"
          ]
        }
      ]
    },
    {
      "cell_type": "code",
      "source": [
        "! pip install Flake8"
      ],
      "metadata": {
        "colab": {
          "base_uri": "https://localhost:8080/"
        },
        "id": "7aCXCVhdmr2h",
        "outputId": "b556e74b-d1a3-498f-b0d5-4f0923712537"
      },
      "execution_count": null,
      "outputs": [
        {
          "output_type": "stream",
          "name": "stdout",
          "text": [
            "Collecting Flake8\n",
            "  Downloading flake8-7.1.2-py2.py3-none-any.whl.metadata (3.8 kB)\n",
            "Collecting mccabe<0.8.0,>=0.7.0 (from Flake8)\n",
            "  Downloading mccabe-0.7.0-py2.py3-none-any.whl.metadata (5.0 kB)\n",
            "Collecting pycodestyle<2.13.0,>=2.12.0 (from Flake8)\n",
            "  Downloading pycodestyle-2.12.1-py2.py3-none-any.whl.metadata (4.5 kB)\n",
            "Collecting pyflakes<3.3.0,>=3.2.0 (from Flake8)\n",
            "  Downloading pyflakes-3.2.0-py2.py3-none-any.whl.metadata (3.5 kB)\n",
            "Downloading flake8-7.1.2-py2.py3-none-any.whl (57 kB)\n",
            "\u001b[2K   \u001b[90m━━━━━━━━━━━━━━━━━━━━━━━━━━━━━━━━━━━━━━━━\u001b[0m \u001b[32m57.7/57.7 kB\u001b[0m \u001b[31m3.7 MB/s\u001b[0m eta \u001b[36m0:00:00\u001b[0m\n",
            "\u001b[?25hDownloading mccabe-0.7.0-py2.py3-none-any.whl (7.3 kB)\n",
            "Downloading pycodestyle-2.12.1-py2.py3-none-any.whl (31 kB)\n",
            "Downloading pyflakes-3.2.0-py2.py3-none-any.whl (62 kB)\n",
            "\u001b[2K   \u001b[90m━━━━━━━━━━━━━━━━━━━━━━━━━━━━━━━━━━━━━━━━\u001b[0m \u001b[32m62.7/62.7 kB\u001b[0m \u001b[31m4.3 MB/s\u001b[0m eta \u001b[36m0:00:00\u001b[0m\n",
            "\u001b[?25hInstalling collected packages: pyflakes, pycodestyle, mccabe, Flake8\n",
            "Successfully installed Flake8-7.1.2 mccabe-0.7.0 pycodestyle-2.12.1 pyflakes-3.2.0\n"
          ]
        }
      ]
    },
    {
      "cell_type": "code",
      "source": [
        "!flake8 'drive/MyDrive/Colab Notebooks/flake.py'\n"
      ],
      "metadata": {
        "colab": {
          "base_uri": "https://localhost:8080/"
        },
        "id": "PE61efmRnIi3",
        "outputId": "5aa885b2-05bd-4e77-add5-2c2d939a36eb"
      },
      "execution_count": null,
      "outputs": [
        {
          "output_type": "stream",
          "name": "stdout",
          "text": [
            "\u001b[1mdrive/MyDrive/Colab Notebooks/flake.py\u001b[m\u001b[36m:\u001b[m1\u001b[36m:\u001b[m1\u001b[36m:\u001b[m \u001b[1m\u001b[31mF403\u001b[m 'from math import *' used; unable to detect undefined names\n",
            "\u001b[1mdrive/MyDrive/Colab Notebooks/flake.py\u001b[m\u001b[36m:\u001b[m2\u001b[36m:\u001b[m1\u001b[36m:\u001b[m \u001b[1m\u001b[31mF401\u001b[m 'itertools' imported but unused\n",
            "\u001b[1mdrive/MyDrive/Colab Notebooks/flake.py\u001b[m\u001b[36m:\u001b[m3\u001b[36m:\u001b[m1\u001b[36m:\u001b[m \u001b[1m\u001b[31mE302\u001b[m expected 2 blank lines, found 0\n",
            "\u001b[1mdrive/MyDrive/Colab Notebooks/flake.py\u001b[m\u001b[36m:\u001b[m3\u001b[36m:\u001b[m4\u001b[36m:\u001b[m \u001b[1m\u001b[31mE271\u001b[m multiple spaces after keyword\n",
            "\u001b[1mdrive/MyDrive/Colab Notebooks/flake.py\u001b[m\u001b[36m:\u001b[m3\u001b[36m:\u001b[m25\u001b[36m:\u001b[m \u001b[1m\u001b[31mE211\u001b[m whitespace before '('\n",
            "\u001b[1mdrive/MyDrive/Colab Notebooks/flake.py\u001b[m\u001b[36m:\u001b[m3\u001b[36m:\u001b[m33\u001b[36m:\u001b[m \u001b[1m\u001b[31mE202\u001b[m whitespace before ')'\n",
            "\u001b[1mdrive/MyDrive/Colab Notebooks/flake.py\u001b[m\u001b[36m:\u001b[m4\u001b[36m:\u001b[m1\u001b[36m:\u001b[m \u001b[1m\u001b[31mW191\u001b[m indentation contains tabs\n",
            "\u001b[1mdrive/MyDrive/Colab Notebooks/flake.py\u001b[m\u001b[36m:\u001b[m4\u001b[36m:\u001b[m8\u001b[36m:\u001b[m \u001b[1m\u001b[31mE271\u001b[m multiple spaces after keyword\n",
            "\u001b[1mdrive/MyDrive/Colab Notebooks/flake.py\u001b[m\u001b[36m:\u001b[m4\u001b[36m:\u001b[m10\u001b[36m:\u001b[m \u001b[1m\u001b[31mF405\u001b[m 'sqrt' may be undefined, or defined from star imports: math\n",
            "\u001b[1mdrive/MyDrive/Colab Notebooks/flake.py\u001b[m\u001b[36m:\u001b[m4\u001b[36m:\u001b[m21\u001b[36m:\u001b[m \u001b[1m\u001b[31mE202\u001b[m whitespace before ')'\n",
            "\u001b[1mdrive/MyDrive/Colab Notebooks/flake.py\u001b[m\u001b[36m:\u001b[m5\u001b[36m:\u001b[m1\u001b[36m:\u001b[m \u001b[1m\u001b[31mE302\u001b[m expected 2 blank lines, found 0\n",
            "\u001b[1mdrive/MyDrive/Colab Notebooks/flake.py\u001b[m\u001b[36m:\u001b[m5\u001b[36m:\u001b[m23\u001b[36m:\u001b[m \u001b[1m\u001b[31mE741\u001b[m ambiguous variable name 'l'\n",
            "\u001b[1mdrive/MyDrive/Colab Notebooks/flake.py\u001b[m\u001b[36m:\u001b[m6\u001b[36m:\u001b[m1\u001b[36m:\u001b[m \u001b[1m\u001b[31mE101\u001b[m indentation contains mixed spaces and tabs\n",
            "\u001b[1mdrive/MyDrive/Colab Notebooks/flake.py\u001b[m\u001b[36m:\u001b[m7\u001b[36m:\u001b[m1\u001b[36m:\u001b[m \u001b[1m\u001b[31mE101\u001b[m indentation contains mixed spaces and tabs\n",
            "\u001b[1mdrive/MyDrive/Colab Notebooks/flake.py\u001b[m\u001b[36m:\u001b[m8\u001b[36m:\u001b[m1\u001b[36m:\u001b[m \u001b[1m\u001b[31mE305\u001b[m expected 2 blank lines after class or function definition, found 0\n",
            "\u001b[1mdrive/MyDrive/Colab Notebooks/flake.py\u001b[m\u001b[36m:\u001b[m9\u001b[36m:\u001b[m1\u001b[36m:\u001b[m \u001b[1m\u001b[31mE101\u001b[m indentation contains mixed spaces and tabs\n",
            "\u001b[1mdrive/MyDrive/Colab Notebooks/flake.py\u001b[m\u001b[36m:\u001b[m10\u001b[36m:\u001b[m1\u001b[36m:\u001b[m \u001b[1m\u001b[31mE101\u001b[m indentation contains mixed spaces and tabs\n",
            "\u001b[1mdrive/MyDrive/Colab Notebooks/flake.py\u001b[m\u001b[36m:\u001b[m10\u001b[36m:\u001b[m20\u001b[36m:\u001b[m \u001b[1m\u001b[31mE225\u001b[m missing whitespace around operator\n",
            "\u001b[1mdrive/MyDrive/Colab Notebooks/flake.py\u001b[m\u001b[36m:\u001b[m11\u001b[36m:\u001b[m1\u001b[36m:\u001b[m \u001b[1m\u001b[31mE101\u001b[m indentation contains mixed spaces and tabs\n",
            "\u001b[1mdrive/MyDrive/Colab Notebooks/flake.py\u001b[m\u001b[36m:\u001b[m11\u001b[36m:\u001b[m67\u001b[36m:\u001b[m \u001b[1m\u001b[31mW291\u001b[m trailing whitespace\n",
            "\u001b[1mdrive/MyDrive/Colab Notebooks/flake.py\u001b[m\u001b[36m:\u001b[m12\u001b[36m:\u001b[m1\u001b[36m:\u001b[m \u001b[1m\u001b[31mE101\u001b[m indentation contains mixed spaces and tabs\n",
            "\u001b[1mdrive/MyDrive/Colab Notebooks/flake.py\u001b[m\u001b[36m:\u001b[m12\u001b[36m:\u001b[m14\u001b[36m:\u001b[m \u001b[1m\u001b[31mW291\u001b[m trailing whitespace\n",
            "\u001b[1mdrive/MyDrive/Colab Notebooks/flake.py\u001b[m\u001b[36m:\u001b[m13\u001b[36m:\u001b[m1\u001b[36m:\u001b[m \u001b[1m\u001b[31mE101\u001b[m indentation contains mixed spaces and tabs\n",
            "\u001b[1mdrive/MyDrive/Colab Notebooks/flake.py\u001b[m\u001b[36m:\u001b[m13\u001b[36m:\u001b[m5\u001b[36m:\u001b[m \u001b[1m\u001b[31mE722\u001b[m do not use bare 'except'\n",
            "\u001b[1mdrive/MyDrive/Colab Notebooks/flake.py\u001b[m\u001b[36m:\u001b[m14\u001b[36m:\u001b[m1\u001b[36m:\u001b[m \u001b[1m\u001b[31mE101\u001b[m indentation contains mixed spaces and tabs\n"
          ]
        }
      ]
    },
    {
      "cell_type": "code",
      "source": [
        "!pip3 install virtualenv\n",
        "!virtualenv venv\n"
      ],
      "metadata": {
        "colab": {
          "base_uri": "https://localhost:8080/"
        },
        "id": "FhL9A0UTn8EZ",
        "outputId": "1a13772c-dade-4107-9b78-c1a49acf50d7"
      },
      "execution_count": null,
      "outputs": [
        {
          "output_type": "stream",
          "name": "stdout",
          "text": [
            "Collecting virtualenv\n",
            "  Downloading virtualenv-20.29.3-py3-none-any.whl.metadata (4.5 kB)\n",
            "Collecting distlib<1,>=0.3.7 (from virtualenv)\n",
            "  Downloading distlib-0.3.9-py2.py3-none-any.whl.metadata (5.2 kB)\n",
            "Requirement already satisfied: filelock<4,>=3.12.2 in /usr/local/lib/python3.11/dist-packages (from virtualenv) (3.17.0)\n",
            "Requirement already satisfied: platformdirs<5,>=3.9.1 in /usr/local/lib/python3.11/dist-packages (from virtualenv) (4.3.6)\n",
            "Downloading virtualenv-20.29.3-py3-none-any.whl (4.3 MB)\n",
            "\u001b[2K   \u001b[90m━━━━━━━━━━━━━━━━━━━━━━━━━━━━━━━━━━━━━━━━\u001b[0m \u001b[32m4.3/4.3 MB\u001b[0m \u001b[31m45.8 MB/s\u001b[0m eta \u001b[36m0:00:00\u001b[0m\n",
            "\u001b[?25hDownloading distlib-0.3.9-py2.py3-none-any.whl (468 kB)\n",
            "\u001b[2K   \u001b[90m━━━━━━━━━━━━━━━━━━━━━━━━━━━━━━━━━━━━━━━━\u001b[0m \u001b[32m469.0/469.0 kB\u001b[0m \u001b[31m25.9 MB/s\u001b[0m eta \u001b[36m0:00:00\u001b[0m\n",
            "\u001b[?25hInstalling collected packages: distlib, virtualenv\n",
            "Successfully installed distlib-0.3.9 virtualenv-20.29.3\n",
            "created virtual environment CPython3.11.11.final.0-64 in 1292ms\n",
            "  creator CPython3Posix(dest=/content/venv, clear=False, no_vcs_ignore=False, global=False)\n",
            "  seeder FromAppData(download=False, pip=bundle, setuptools=bundle, wheel=bundle, via=copy, app_data_dir=/root/.local/share/virtualenv)\n",
            "    added seed packages: pip==25.0.1, setuptools==75.8.0, wheel==0.45.1\n",
            "  activators BashActivator,CShellActivator,FishActivator,NushellActivator,PowerShellActivator,PythonActivator\n"
          ]
        }
      ]
    },
    {
      "cell_type": "code",
      "source": [
        "!source /content/venv/bin/activate; pip3 install numpy\n"
      ],
      "metadata": {
        "colab": {
          "base_uri": "https://localhost:8080/"
        },
        "id": "IU0Hb3WboPms",
        "outputId": "9cd79252-2a5a-4c18-af12-7ee9c4dd84ac"
      },
      "execution_count": null,
      "outputs": [
        {
          "output_type": "stream",
          "name": "stdout",
          "text": [
            "Collecting numpy\n",
            "  Downloading numpy-2.2.3-cp311-cp311-manylinux_2_17_x86_64.manylinux2014_x86_64.whl.metadata (62 kB)\n",
            "Downloading numpy-2.2.3-cp311-cp311-manylinux_2_17_x86_64.manylinux2014_x86_64.whl (16.4 MB)\n",
            "\u001b[2K   \u001b[90m━━━━━━━━━━━━━━━━━━━━━━━━━━━━━━━━━━━━━━━━\u001b[0m \u001b[32m16.4/16.4 MB\u001b[0m \u001b[31m64.0 MB/s\u001b[0m eta \u001b[36m0:00:00\u001b[0m\n",
            "\u001b[?25hInstalling collected packages: numpy\n",
            "Successfully installed numpy-2.2.3\n"
          ]
        }
      ]
    },
    {
      "cell_type": "code",
      "source": [
        "!source /content/venv/bin/activate; pip3 freeze > requirments.txt\n"
      ],
      "metadata": {
        "id": "0spak9oXoT2O"
      },
      "execution_count": null,
      "outputs": []
    },
    {
      "cell_type": "code",
      "source": [
        "!virtualenv venv2"
      ],
      "metadata": {
        "colab": {
          "base_uri": "https://localhost:8080/"
        },
        "id": "gfgg9LKNolnp",
        "outputId": "123d535e-c350-47c8-8ee7-046e83e2108a"
      },
      "execution_count": null,
      "outputs": [
        {
          "output_type": "stream",
          "name": "stdout",
          "text": [
            "created virtual environment CPython3.11.11.final.0-64 in 348ms\n",
            "  creator CPython3Posix(dest=/content/venv2, clear=False, no_vcs_ignore=False, global=False)\n",
            "  seeder FromAppData(download=False, pip=bundle, setuptools=bundle, wheel=bundle, via=copy, app_data_dir=/root/.local/share/virtualenv)\n",
            "    added seed packages: pip==25.0.1, setuptools==75.8.0, wheel==0.45.1\n",
            "  activators BashActivator,CShellActivator,FishActivator,NushellActivator,PowerShellActivator,PythonActivator\n"
          ]
        }
      ]
    },
    {
      "cell_type": "code",
      "source": [
        "!source /content/venv/bin/activate; pip3 install -r requirments.txt"
      ],
      "metadata": {
        "colab": {
          "base_uri": "https://localhost:8080/"
        },
        "id": "ehJ3crXuosV2",
        "outputId": "01d72412-0681-42fb-dec8-2e6dd57b02cd"
      },
      "execution_count": null,
      "outputs": [
        {
          "output_type": "stream",
          "name": "stdout",
          "text": [
            "Requirement already satisfied: numpy==2.2.3 in ./venv/lib/python3.11/site-packages (from -r requirments.txt (line 1)) (2.2.3)\n"
          ]
        }
      ]
    },
    {
      "cell_type": "code",
      "source": [
        "!source /content/venv2/bin/activate; pip3 install -r requirments.txt"
      ],
      "metadata": {
        "colab": {
          "base_uri": "https://localhost:8080/"
        },
        "id": "347Li176o11F",
        "outputId": "a5d3d212-7a36-4565-b218-55937618907c"
      },
      "execution_count": null,
      "outputs": [
        {
          "output_type": "stream",
          "name": "stdout",
          "text": [
            "Collecting numpy==2.2.3 (from -r requirments.txt (line 1))\n",
            "  Using cached numpy-2.2.3-cp311-cp311-manylinux_2_17_x86_64.manylinux2014_x86_64.whl.metadata (62 kB)\n",
            "Using cached numpy-2.2.3-cp311-cp311-manylinux_2_17_x86_64.manylinux2014_x86_64.whl (16.4 MB)\n",
            "Installing collected packages: numpy\n",
            "Successfully installed numpy-2.2.3\n"
          ]
        }
      ]
    }
  ]
}