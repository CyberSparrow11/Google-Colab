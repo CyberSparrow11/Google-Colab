{
  "nbformat": 4,
  "nbformat_minor": 0,
  "metadata": {
    "colab": {
      "provenance": []
    },
    "kernelspec": {
      "name": "python3",
      "display_name": "Python 3"
    },
    "language_info": {
      "name": "python"
    }
  },
  "cells": [
    {
      "cell_type": "code",
      "execution_count": null,
      "metadata": {
        "colab": {
          "base_uri": "https://localhost:8080/"
        },
        "id": "grBh_hWypHZk",
        "outputId": "d3840617-9405-44dd-b65e-aae39ba4e4e6"
      },
      "outputs": [
        {
          "output_type": "stream",
          "name": "stdout",
          "text": [
            "Reading package lists... Done\n",
            "Building dependency tree... Done\n",
            "Reading state information... Done\n",
            "The following additional packages will be installed:\n",
            "  pypy-lib\n",
            "Suggested packages:\n",
            "  pypy-doc pypy-tk\n",
            "The following NEW packages will be installed:\n",
            "  pypy pypy-lib\n",
            "0 upgraded, 2 newly installed, 0 to remove and 29 not upgraded.\n",
            "Need to get 16.2 MB of archives.\n",
            "After this operation, 88.3 MB of additional disk space will be used.\n",
            "Get:1 http://archive.ubuntu.com/ubuntu jammy/universe amd64 pypy-lib amd64 7.3.9+dfsg-1 [2,484 kB]\n",
            "Get:2 http://archive.ubuntu.com/ubuntu jammy/universe amd64 pypy amd64 7.3.9+dfsg-1 [13.7 MB]\n",
            "Fetched 16.2 MB in 1s (15.1 MB/s)\n",
            "Selecting previously unselected package pypy-lib:amd64.\n",
            "(Reading database ... 124947 files and directories currently installed.)\n",
            "Preparing to unpack .../pypy-lib_7.3.9+dfsg-1_amd64.deb ...\n",
            "Unpacking pypy-lib:amd64 (7.3.9+dfsg-1) ...\n",
            "Setting up pypy-lib:amd64 (7.3.9+dfsg-1) ...\n",
            "Selecting previously unselected package pypy.\n",
            "(Reading database ... 126231 files and directories currently installed.)\n",
            "Preparing to unpack .../pypy_7.3.9+dfsg-1_amd64.deb ...\n",
            "Unpacking pypy (7.3.9+dfsg-1) ...\n",
            "Setting up pypy (7.3.9+dfsg-1) ...\n",
            "running pypy rtupdate hooks for 7.3\n",
            "running pypy post-rtupdate hooks for 7.3\n",
            "Processing triggers for man-db (2.10.2-1) ...\n"
          ]
        }
      ],
      "source": [
        "!apt-get install pypy\n"
      ]
    },
    {
      "cell_type": "code",
      "source": [
        "import random\n",
        "import timeit\n",
        "def sum_random_numbers(n):\n",
        "    return sum([random.random() for i in range(n)])\n",
        "if __name__ == '__main__':\n",
        "    n = 1000000\n",
        "    print(sum_random_numbers(n))\n",
        "\n",
        "n = 1000000\n",
        "# Benchmark using Pypy\n",
        "t2 = timeit.timeit(lambda: sum_random_numbers(n), number=10)\n",
        "print(\"time\", t2)\n"
      ],
      "metadata": {
        "colab": {
          "base_uri": "https://localhost:8080/"
        },
        "id": "R6a1_SS4qqb3",
        "outputId": "00313f73-d9ed-40f7-e35f-0ef03dd9a26f"
      },
      "execution_count": 2,
      "outputs": [
        {
          "output_type": "stream",
          "name": "stdout",
          "text": [
            "499848.811644047\n",
            "time 1.052988546999984\n"
          ]
        }
      ]
    }
  ]
}