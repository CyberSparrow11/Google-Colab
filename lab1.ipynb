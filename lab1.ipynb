{
  "nbformat": 4,
  "nbformat_minor": 0,
  "metadata": {
    "colab": {
      "provenance": [],
      "authorship_tag": "ABX9TyP7zVx10shnfNqZ8g+VjDd7"
    },
    "kernelspec": {
      "name": "python3",
      "display_name": "Python 3"
    },
    "language_info": {
      "name": "python"
    }
  },
  "cells": [
    {
      "cell_type": "code",
      "execution_count": null,
      "metadata": {
        "colab": {
          "base_uri": "https://localhost:8080/"
        },
        "id": "grBh_hWypHZk",
        "outputId": "d3840617-9405-44dd-b65e-aae39ba4e4e6"
      },
      "outputs": [
        {
          "output_type": "stream",
          "name": "stdout",
          "text": [
            "Reading package lists... Done\n",
            "Building dependency tree... Done\n",
            "Reading state information... Done\n",
            "The following additional packages will be installed:\n",
            "  pypy-lib\n",
            "Suggested packages:\n",
            "  pypy-doc pypy-tk\n",
            "The following NEW packages will be installed:\n",
            "  pypy pypy-lib\n",
            "0 upgraded, 2 newly installed, 0 to remove and 29 not upgraded.\n",
            "Need to get 16.2 MB of archives.\n",
            "After this operation, 88.3 MB of additional disk space will be used.\n",
            "Get:1 http://archive.ubuntu.com/ubuntu jammy/universe amd64 pypy-lib amd64 7.3.9+dfsg-1 [2,484 kB]\n",
            "Get:2 http://archive.ubuntu.com/ubuntu jammy/universe amd64 pypy amd64 7.3.9+dfsg-1 [13.7 MB]\n",
            "Fetched 16.2 MB in 1s (15.1 MB/s)\n",
            "Selecting previously unselected package pypy-lib:amd64.\n",
            "(Reading database ... 124947 files and directories currently installed.)\n",
            "Preparing to unpack .../pypy-lib_7.3.9+dfsg-1_amd64.deb ...\n",
            "Unpacking pypy-lib:amd64 (7.3.9+dfsg-1) ...\n",
            "Setting up pypy-lib:amd64 (7.3.9+dfsg-1) ...\n",
            "Selecting previously unselected package pypy.\n",
            "(Reading database ... 126231 files and directories currently installed.)\n",
            "Preparing to unpack .../pypy_7.3.9+dfsg-1_amd64.deb ...\n",
            "Unpacking pypy (7.3.9+dfsg-1) ...\n",
            "Setting up pypy (7.3.9+dfsg-1) ...\n",
            "running pypy rtupdate hooks for 7.3\n",
            "running pypy post-rtupdate hooks for 7.3\n",
            "Processing triggers for man-db (2.10.2-1) ...\n"
          ]
        }
      ],
      "source": [
        "!apt-get install pypy\n"
      ]
    },
    {
      "cell_type": "code",
      "source": [
        "import random\n",
        "import timeit\n",
        "def sum_random_numbers(n):\n",
        "    return sum([random.random() for i in range(n)])\n",
        "if __name__ == '__main__':\n",
        "    n = 1000000\n",
        "    print(sum_random_numbers(n))\n",
        "\n",
        "n = 1000000\n",
        "# Benchmark using Pypy\n",
        "t2 = timeit.timeit(lambda: sum_random_numbers(n), number=10)\n",
        "print(\"time\", t2)\n"
      ],
      "metadata": {
        "colab": {
          "base_uri": "https://localhost:8080/"
        },
        "id": "R6a1_SS4qqb3",
        "outputId": "00313f73-d9ed-40f7-e35f-0ef03dd9a26f"
      },
      "execution_count": 2,
      "outputs": [
        {
          "output_type": "stream",
          "name": "stdout",
          "text": [
            "499848.811644047\n",
            "time 1.052988546999984\n"
          ]
        }
      ]
    },
    {
      "cell_type": "code",
      "source": [
        "from google.colab import drive\n",
        "drive.mount('/content/drive')"
      ],
      "metadata": {
        "colab": {
          "base_uri": "https://localhost:8080/"
        },
        "id": "oKEbZh0NF3Ex",
        "outputId": "8aca1df5-c705-406b-bde1-d0b2719a9f2e"
      },
      "execution_count": 11,
      "outputs": [
        {
          "output_type": "stream",
          "name": "stdout",
          "text": [
            "Drive already mounted at /content/drive; to attempt to forcibly remount, call drive.mount(\"/content/drive\", force_remount=True).\n"
          ]
        }
      ]
    },
    {
      "cell_type": "code",
      "source": [
        "! pypy 'drive/MyDrive/Colab Notebooks/lab1.py'"
      ],
      "metadata": {
        "colab": {
          "base_uri": "https://localhost:8080/"
        },
        "id": "fuOmQUTnIJH5",
        "outputId": "44e40666-7be0-48ff-abd3-3c77bc7de25b"
      },
      "execution_count": 12,
      "outputs": [
        {
          "output_type": "stream",
          "name": "stdout",
          "text": [
            "499784.170313\n",
            "('time', 0.5850200653076172)\n"
          ]
        }
      ]
    },
    {
      "cell_type": "code",
      "source": [
        "! pypy 'drive/MyDrive/Colab Notebooks/lab1.py'"
      ],
      "metadata": {
        "colab": {
          "base_uri": "https://localhost:8080/"
        },
        "id": "xMu2_2XKIYB5",
        "outputId": "ef061ef1-939e-439e-be2a-da8312d72d81"
      },
      "execution_count": 13,
      "outputs": [
        {
          "output_type": "stream",
          "name": "stdout",
          "text": [
            "500198.15366276377\n",
            "time 1.071973418998823\n"
          ]
        }
      ]
    },
    {
      "cell_type": "code",
      "source": [
        "! pip install Flake8"
      ],
      "metadata": {
        "colab": {
          "base_uri": "https://localhost:8080/"
        },
        "id": "7aCXCVhdmr2h",
        "outputId": "b556e74b-d1a3-498f-b0d5-4f0923712537"
      },
      "execution_count": 26,
      "outputs": [
        {
          "output_type": "stream",
          "name": "stdout",
          "text": [
            "Collecting Flake8\n",
            "  Downloading flake8-7.1.2-py2.py3-none-any.whl.metadata (3.8 kB)\n",
            "Collecting mccabe<0.8.0,>=0.7.0 (from Flake8)\n",
            "  Downloading mccabe-0.7.0-py2.py3-none-any.whl.metadata (5.0 kB)\n",
            "Collecting pycodestyle<2.13.0,>=2.12.0 (from Flake8)\n",
            "  Downloading pycodestyle-2.12.1-py2.py3-none-any.whl.metadata (4.5 kB)\n",
            "Collecting pyflakes<3.3.0,>=3.2.0 (from Flake8)\n",
            "  Downloading pyflakes-3.2.0-py2.py3-none-any.whl.metadata (3.5 kB)\n",
            "Downloading flake8-7.1.2-py2.py3-none-any.whl (57 kB)\n",
            "\u001b[2K   \u001b[90m━━━━━━━━━━━━━━━━━━━━━━━━━━━━━━━━━━━━━━━━\u001b[0m \u001b[32m57.7/57.7 kB\u001b[0m \u001b[31m3.7 MB/s\u001b[0m eta \u001b[36m0:00:00\u001b[0m\n",
            "\u001b[?25hDownloading mccabe-0.7.0-py2.py3-none-any.whl (7.3 kB)\n",
            "Downloading pycodestyle-2.12.1-py2.py3-none-any.whl (31 kB)\n",
            "Downloading pyflakes-3.2.0-py2.py3-none-any.whl (62 kB)\n",
            "\u001b[2K   \u001b[90m━━━━━━━━━━━━━━━━━━━━━━━━━━━━━━━━━━━━━━━━\u001b[0m \u001b[32m62.7/62.7 kB\u001b[0m \u001b[31m4.3 MB/s\u001b[0m eta \u001b[36m0:00:00\u001b[0m\n",
            "\u001b[?25hInstalling collected packages: pyflakes, pycodestyle, mccabe, Flake8\n",
            "Successfully installed Flake8-7.1.2 mccabe-0.7.0 pycodestyle-2.12.1 pyflakes-3.2.0\n"
          ]
        }
      ]
    },
    {
      "cell_type": "code",
      "source": [
        "!flake8 'drive/MyDrive/Colab Notebooks/flake.py'\n"
      ],
      "metadata": {
        "colab": {
          "base_uri": "https://localhost:8080/"
        },
        "id": "PE61efmRnIi3",
        "outputId": "5aa885b2-05bd-4e77-add5-2c2d939a36eb"
      },
      "execution_count": 28,
      "outputs": [
        {
          "output_type": "stream",
          "name": "stdout",
          "text": [
            "\u001b[1mdrive/MyDrive/Colab Notebooks/flake.py\u001b[m\u001b[36m:\u001b[m1\u001b[36m:\u001b[m1\u001b[36m:\u001b[m \u001b[1m\u001b[31mF403\u001b[m 'from math import *' used; unable to detect undefined names\n",
            "\u001b[1mdrive/MyDrive/Colab Notebooks/flake.py\u001b[m\u001b[36m:\u001b[m2\u001b[36m:\u001b[m1\u001b[36m:\u001b[m \u001b[1m\u001b[31mF401\u001b[m 'itertools' imported but unused\n",
            "\u001b[1mdrive/MyDrive/Colab Notebooks/flake.py\u001b[m\u001b[36m:\u001b[m3\u001b[36m:\u001b[m1\u001b[36m:\u001b[m \u001b[1m\u001b[31mE302\u001b[m expected 2 blank lines, found 0\n",
            "\u001b[1mdrive/MyDrive/Colab Notebooks/flake.py\u001b[m\u001b[36m:\u001b[m3\u001b[36m:\u001b[m4\u001b[36m:\u001b[m \u001b[1m\u001b[31mE271\u001b[m multiple spaces after keyword\n",
            "\u001b[1mdrive/MyDrive/Colab Notebooks/flake.py\u001b[m\u001b[36m:\u001b[m3\u001b[36m:\u001b[m25\u001b[36m:\u001b[m \u001b[1m\u001b[31mE211\u001b[m whitespace before '('\n",
            "\u001b[1mdrive/MyDrive/Colab Notebooks/flake.py\u001b[m\u001b[36m:\u001b[m3\u001b[36m:\u001b[m33\u001b[36m:\u001b[m \u001b[1m\u001b[31mE202\u001b[m whitespace before ')'\n",
            "\u001b[1mdrive/MyDrive/Colab Notebooks/flake.py\u001b[m\u001b[36m:\u001b[m4\u001b[36m:\u001b[m1\u001b[36m:\u001b[m \u001b[1m\u001b[31mW191\u001b[m indentation contains tabs\n",
            "\u001b[1mdrive/MyDrive/Colab Notebooks/flake.py\u001b[m\u001b[36m:\u001b[m4\u001b[36m:\u001b[m8\u001b[36m:\u001b[m \u001b[1m\u001b[31mE271\u001b[m multiple spaces after keyword\n",
            "\u001b[1mdrive/MyDrive/Colab Notebooks/flake.py\u001b[m\u001b[36m:\u001b[m4\u001b[36m:\u001b[m10\u001b[36m:\u001b[m \u001b[1m\u001b[31mF405\u001b[m 'sqrt' may be undefined, or defined from star imports: math\n",
            "\u001b[1mdrive/MyDrive/Colab Notebooks/flake.py\u001b[m\u001b[36m:\u001b[m4\u001b[36m:\u001b[m21\u001b[36m:\u001b[m \u001b[1m\u001b[31mE202\u001b[m whitespace before ')'\n",
            "\u001b[1mdrive/MyDrive/Colab Notebooks/flake.py\u001b[m\u001b[36m:\u001b[m5\u001b[36m:\u001b[m1\u001b[36m:\u001b[m \u001b[1m\u001b[31mE302\u001b[m expected 2 blank lines, found 0\n",
            "\u001b[1mdrive/MyDrive/Colab Notebooks/flake.py\u001b[m\u001b[36m:\u001b[m5\u001b[36m:\u001b[m23\u001b[36m:\u001b[m \u001b[1m\u001b[31mE741\u001b[m ambiguous variable name 'l'\n",
            "\u001b[1mdrive/MyDrive/Colab Notebooks/flake.py\u001b[m\u001b[36m:\u001b[m6\u001b[36m:\u001b[m1\u001b[36m:\u001b[m \u001b[1m\u001b[31mE101\u001b[m indentation contains mixed spaces and tabs\n",
            "\u001b[1mdrive/MyDrive/Colab Notebooks/flake.py\u001b[m\u001b[36m:\u001b[m7\u001b[36m:\u001b[m1\u001b[36m:\u001b[m \u001b[1m\u001b[31mE101\u001b[m indentation contains mixed spaces and tabs\n",
            "\u001b[1mdrive/MyDrive/Colab Notebooks/flake.py\u001b[m\u001b[36m:\u001b[m8\u001b[36m:\u001b[m1\u001b[36m:\u001b[m \u001b[1m\u001b[31mE305\u001b[m expected 2 blank lines after class or function definition, found 0\n",
            "\u001b[1mdrive/MyDrive/Colab Notebooks/flake.py\u001b[m\u001b[36m:\u001b[m9\u001b[36m:\u001b[m1\u001b[36m:\u001b[m \u001b[1m\u001b[31mE101\u001b[m indentation contains mixed spaces and tabs\n",
            "\u001b[1mdrive/MyDrive/Colab Notebooks/flake.py\u001b[m\u001b[36m:\u001b[m10\u001b[36m:\u001b[m1\u001b[36m:\u001b[m \u001b[1m\u001b[31mE101\u001b[m indentation contains mixed spaces and tabs\n",
            "\u001b[1mdrive/MyDrive/Colab Notebooks/flake.py\u001b[m\u001b[36m:\u001b[m10\u001b[36m:\u001b[m20\u001b[36m:\u001b[m \u001b[1m\u001b[31mE225\u001b[m missing whitespace around operator\n",
            "\u001b[1mdrive/MyDrive/Colab Notebooks/flake.py\u001b[m\u001b[36m:\u001b[m11\u001b[36m:\u001b[m1\u001b[36m:\u001b[m \u001b[1m\u001b[31mE101\u001b[m indentation contains mixed spaces and tabs\n",
            "\u001b[1mdrive/MyDrive/Colab Notebooks/flake.py\u001b[m\u001b[36m:\u001b[m11\u001b[36m:\u001b[m67\u001b[36m:\u001b[m \u001b[1m\u001b[31mW291\u001b[m trailing whitespace\n",
            "\u001b[1mdrive/MyDrive/Colab Notebooks/flake.py\u001b[m\u001b[36m:\u001b[m12\u001b[36m:\u001b[m1\u001b[36m:\u001b[m \u001b[1m\u001b[31mE101\u001b[m indentation contains mixed spaces and tabs\n",
            "\u001b[1mdrive/MyDrive/Colab Notebooks/flake.py\u001b[m\u001b[36m:\u001b[m12\u001b[36m:\u001b[m14\u001b[36m:\u001b[m \u001b[1m\u001b[31mW291\u001b[m trailing whitespace\n",
            "\u001b[1mdrive/MyDrive/Colab Notebooks/flake.py\u001b[m\u001b[36m:\u001b[m13\u001b[36m:\u001b[m1\u001b[36m:\u001b[m \u001b[1m\u001b[31mE101\u001b[m indentation contains mixed spaces and tabs\n",
            "\u001b[1mdrive/MyDrive/Colab Notebooks/flake.py\u001b[m\u001b[36m:\u001b[m13\u001b[36m:\u001b[m5\u001b[36m:\u001b[m \u001b[1m\u001b[31mE722\u001b[m do not use bare 'except'\n",
            "\u001b[1mdrive/MyDrive/Colab Notebooks/flake.py\u001b[m\u001b[36m:\u001b[m14\u001b[36m:\u001b[m1\u001b[36m:\u001b[m \u001b[1m\u001b[31mE101\u001b[m indentation contains mixed spaces and tabs\n"
          ]
        }
      ]
    }
  ]
}