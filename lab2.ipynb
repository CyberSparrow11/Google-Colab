{
  "nbformat": 4,
  "nbformat_minor": 0,
  "metadata": {
    "colab": {
      "provenance": [],
      "authorship_tag": "ABX9TyMma8ug3GkU/cXt4lDZPD3Z",
      "include_colab_link": true
    },
    "kernelspec": {
      "name": "python3",
      "display_name": "Python 3"
    },
    "language_info": {
      "name": "python"
    }
  },
  "cells": [
    {
      "cell_type": "markdown",
      "metadata": {
        "id": "view-in-github",
        "colab_type": "text"
      },
      "source": [
        "<a href=\"https://colab.research.google.com/github/CyberSparrow11/Google-Colab/blob/main/lab2.ipynb\" target=\"_parent\"><img src=\"https://colab.research.google.com/assets/colab-badge.svg\" alt=\"Open In Colab\"/></a>"
      ]
    },
    {
      "cell_type": "code",
      "execution_count": 1,
      "metadata": {
        "colab": {
          "base_uri": "https://localhost:8080/"
        },
        "id": "ONUuywuG0zgP",
        "outputId": "c55d9bd5-95f8-40ec-fbce-459a6fd3619f"
      },
      "outputs": [
        {
          "output_type": "stream",
          "name": "stdout",
          "text": [
            "[1, 2, 3, 4, 5, 6, 7, 8, 9, 10, 11, 12, 13, 14]\n",
            "[1, 2, 3, 4, 5, 6, 7, 8, 9, 10, 11, 12, 13, 14]\n",
            "[1, 2, 3, 4, 5, 6, 7, 8, 9, 10, 11, 12, 13, 14]\n",
            "[1, 2, 3, 4, 5, 6, 7, 8, 9, 10, 11, 12, 13, 14]\n",
            "[1, 2, 3, 4, 5, 6, 7, 8, 9, 10, 11, 12, 13, 14]\n",
            "[1, 2, 3, 4, 5, 6, 7, 8, 9, 10, 11, 12, 13, 14]\n",
            "[1, 2, 3, 4, 5, 6, 7, 8, 9, 10, 11, 12, 13, 14]\n",
            "[1, 2, 3, 4, 5, 6, 7, 8, 9, 10, 11, 12, 13, 14]\n",
            "[1, 2, 3, 4, 5, 6, 7, 8, 9, 10, 11, 12, 13, 14]\n",
            "The slowest run took 13.40 times longer than the fastest. This could mean that an intermediate result is being cached.\n",
            "40.6 µs ± 43.9 µs per loop (mean ± std. dev. of 3 runs, 3 loops each)\n"
          ]
        }
      ],
      "source": [
        "%%timeit -r3 -n3\n",
        "nums = [i for i in range (1,15)]\n",
        "print(nums)\n"
      ]
    },
    {
      "cell_type": "code",
      "source": [
        "import random\n",
        "L = [random.random() for i in range(100000)]\n",
        "%timeit L.sort()\n"
      ],
      "metadata": {
        "colab": {
          "base_uri": "https://localhost:8080/"
        },
        "id": "CkJGi4-51npX",
        "outputId": "c1d7e7cb-2bbe-4d8e-9527-3c63e9943a1a"
      },
      "execution_count": 2,
      "outputs": [
        {
          "output_type": "stream",
          "name": "stdout",
          "text": [
            "869 µs ± 165 µs per loop (mean ± std. dev. of 7 runs, 1000 loops each)\n"
          ]
        }
      ]
    },
    {
      "cell_type": "code",
      "source": [
        "vLtime = %timeit -o -r5 -n10 vList = list()\n",
        "vDTime = %timeit -o -r5 -n10 vDict = dict()\n",
        "vTTime = %timeit -o -r5 -n10 vTupl = tuple()\n",
        "lLTime = %timeit -o -r5 -n10 lList = []\n",
        "lDTime = %timeit -o -r5 -n10 lDict = {}\n",
        "lTTime = %timeit -o -r5 -n10 lDict = ()\n",
        "\n",
        "vlDiff = (vLtime.average / lLTime.average)\n",
        "vdDiff = (vDTime.average / lDTime.average)\n",
        "vtDiff = (vTTime.average / lTTime.average)\n",
        "print(\"Литеральный список производительнее в {} раз. \".format(vlDiff))\n",
        "print(\"Литеральный словарь производительнее в {} раз. \".format(vdDiff))\n",
        "print(\"Литеральный кортеж производительнее в {} раз. \".format(vtDiff))\n"
      ],
      "metadata": {
        "colab": {
          "base_uri": "https://localhost:8080/"
        },
        "id": "BNdHAy2o3gbi",
        "outputId": "a92c625d-d1c3-4c0e-9e6f-3b470e3f0971"
      },
      "execution_count": 3,
      "outputs": [
        {
          "output_type": "stream",
          "name": "stdout",
          "text": [
            "143 ns ± 89 ns per loop (mean ± std. dev. of 5 runs, 10 loops each)\n",
            "193 ns ± 62.5 ns per loop (mean ± std. dev. of 5 runs, 10 loops each)\n",
            "84.2 ns ± 75.6 ns per loop (mean ± std. dev. of 5 runs, 10 loops each)\n",
            "64.1 ns ± 40.8 ns per loop (mean ± std. dev. of 5 runs, 10 loops each)\n",
            "64.7 ns ± 39.6 ns per loop (mean ± std. dev. of 5 runs, 10 loops each)\n",
            "48.1 ns ± 40.1 ns per loop (mean ± std. dev. of 5 runs, 10 loops each)\n",
            "Литеральный список производительнее в 2.224719216741658 раз. \n",
            "Литеральный словарь производительнее в 2.9885552563173814 раз. \n",
            "Литеральный кортеж производительнее в 1.7501038662740336 раз. \n"
          ]
        }
      ]
    },
    {
      "cell_type": "code",
      "source": [],
      "metadata": {
        "id": "mzpUkC6S3jj2"
      },
      "execution_count": null,
      "outputs": []
    }
  ]
}